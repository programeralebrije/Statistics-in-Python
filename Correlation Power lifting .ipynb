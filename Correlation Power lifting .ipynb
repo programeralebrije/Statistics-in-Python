{
 "cells": [
  {
   "cell_type": "markdown",
   "id": "afe16381",
   "metadata": {},
   "source": [
    "# Correlation Power Lifting "
   ]
  },
  {
   "cell_type": "code",
   "execution_count": 1,
   "id": "83b8b0ff",
   "metadata": {},
   "outputs": [],
   "source": [
    "import pandas as pd\n",
    "import matplotlib.pyplot as plt\n",
    "import seaborn as sns"
   ]
  },
  {
   "cell_type": "code",
   "execution_count": null,
   "id": "bbf4660d",
   "metadata": {},
   "outputs": [],
   "source": [
    "lipstick = pd.read_csv('/Users/rubenlarrazolo/Downloads/power_lifting.csv')\n",
    "print(lipstick)"
   ]
  }
 ],
 "metadata": {
  "kernelspec": {
   "display_name": "Python 3",
   "language": "python",
   "name": "python3"
  },
  "language_info": {
   "codemirror_mode": {
    "name": "ipython",
    "version": 3
   },
   "file_extension": ".py",
   "mimetype": "text/x-python",
   "name": "python",
   "nbconvert_exporter": "python",
   "pygments_lexer": "ipython3",
   "version": "3.8.8"
  }
 },
 "nbformat": 4,
 "nbformat_minor": 5
}

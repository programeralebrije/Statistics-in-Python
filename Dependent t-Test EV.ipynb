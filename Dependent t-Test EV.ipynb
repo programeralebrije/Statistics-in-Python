{
 "cells": [
  {
   "cell_type": "markdown",
   "id": "d8e08f9c",
   "metadata": {},
   "source": [
    "# Dependent t-Test"
   ]
  },
  {
   "cell_type": "code",
   "execution_count": 1,
   "id": "4efc3770",
   "metadata": {},
   "outputs": [],
   "source": [
    "import pandas as pd\n",
    "import numpy as np\n",
    "from scipy import stats\n",
    "from scipy.stats import ttest_ind"
   ]
  },
  {
   "cell_type": "code",
   "execution_count": 9,
   "id": "54022606",
   "metadata": {},
   "outputs": [
    {
     "name": "stdout",
     "output_type": "stream",
     "text": [
      "           vehicle  msrp2012  accelrate2012  mpg2012  mpgmpge2012  \\\n",
      "0   ActiveHybrid 3  19006.62           9.35       50           50   \n",
      "1   ActiveHybrid 5  32095.61           8.82       50           95   \n",
      "2           Ampera  31739.55          11.11       37           98   \n",
      "3         Camry LE  62180.23          16.67       26           26   \n",
      "4   Chevrolet Volt  59126.14          16.95       31           31   \n",
      "5          Insight  18555.28           9.42       42           42   \n",
      "6         LaCrosse  39261.96          11.11       37           94   \n",
      "7             M35h  34858.84          11.49       39           39   \n",
      "8          MKZ FWD  53860.45          19.23       29           29   \n",
      "9       Panamera S  30049.52          11.36       29           29   \n",
      "10         Prius C  61132.11          17.54       26           26   \n",
      "11       Prius PHV  95283.85          17.54       25           25   \n",
      "12      Yukon 1500  52626.77          13.50       21           21   \n",
      "\n",
      "   carclass2012  carclass_id2012  msrp2013  accelrate2013  mpg2013  \\\n",
      "0             C                1     19080           8.70       50   \n",
      "1             M                3     24995          12.66       45   \n",
      "2             C                1     24200          10.20       50   \n",
      "3             M                3     18600          11.76       42   \n",
      "4             M                3     69850          16.39       21   \n",
      "5             C                1     62575          16.13       21   \n",
      "6             C                1     74425          11.63       21   \n",
      "7             M                3     53620          11.90       21   \n",
      "8             M                3     61960          13.33       21   \n",
      "9             M                3     39250          12.35       40   \n",
      "10            M                3     28900           9.26       38   \n",
      "11            L                2     49650          14.93       28   \n",
      "12          SUV                6     39145          11.11       37   \n",
      "\n",
      "    mpgmpge2013 carclass2013  carclass_id2013  \n",
      "0            50            C                1  \n",
      "1            45            C                1  \n",
      "2            50            M                3  \n",
      "3            42            C                1  \n",
      "4            21          SUV                6  \n",
      "5            21          SUV                6  \n",
      "6            21          SUV                6  \n",
      "7            21          SUV                6  \n",
      "8            21          SUV                6  \n",
      "9            40            M                3  \n",
      "10           38            C                1  \n",
      "11           28            C                1  \n",
      "12           98            C                1  \n"
     ]
    }
   ],
   "source": [
    "hybrid2013 = pd.read_excel(r'/Users/rubenlarrazolo/Downloads/hybrid2012-13.xlsx')\n",
    "print(hybrid2013)"
   ]
  },
  {
   "cell_type": "markdown",
   "id": "6448edb8",
   "metadata": {},
   "source": [
    "# Test Assumptions"
   ]
  },
  {
   "cell_type": "code",
   "execution_count": 11,
   "id": "eded46af",
   "metadata": {},
   "outputs": [
    {
     "data": {
      "text/plain": [
       "<AxesSubplot:>"
      ]
     },
     "execution_count": 11,
     "metadata": {},
     "output_type": "execute_result"
    },
    {
     "data": {
      "image/png": "[encoded data removed]",
      "text/plain": [
       "<Figure size 432x288 with 1 Axes>"
      ]
     },
     "metadata": {
      "needs_background": "light"
     },
     "output_type": "display_data"
    }
   ],
   "source": [
    "hybrid2013['msrp2012'].hist()"
   ]
  },
  {
   "cell_type": "code",
   "execution_count": 12,
   "id": "f1ce6b91",
   "metadata": {},
   "outputs": [
    {
     "data": {
      "text/plain": [
       "<AxesSubplot:>"
      ]
     },
     "execution_count": 12,
     "metadata": {},
     "output_type": "execute_result"
    },
    {
     "data": {
      "image/png": "[encoded data removed]",
      "text/plain": [
       "<Figure size 432x288 with 1 Axes>"
      ]
     },
     "metadata": {
      "needs_background": "light"
     },
     "output_type": "display_data"
    }
   ],
   "source": [
    "hybrid2013['msrp2013'].hist()"
   ]
  },
  {
   "cell_type": "code",
   "execution_count": 13,
   "id": "97a97052",
   "metadata": {},
   "outputs": [
    {
     "data": {
      "text/plain": [
       "Ttest_relResult(statistic=0.23749650777597428, pvalue=0.8162780348473798)"
      ]
     },
     "execution_count": 13,
     "metadata": {},
     "output_type": "execute_result"
    }
   ],
   "source": [
    "stats.ttest_rel(hybrid2013['msrp2012'], hybrid2013['msrp2013'])"
   ]
  },
  {
   "cell_type": "code",
   "execution_count": null,
   "id": "0c8a0fc7",
   "metadata": {},
   "outputs": [],
   "source": []
  }
 ],
 "metadata": {
  "kernelspec": {
   "display_name": "Python 3",
   "language": "python",
   "name": "python3"
  },
  "language_info": {
   "codemirror_mode": {
    "name": "ipython",
    "version": 3
   },
   "file_extension": ".py",
   "mimetype": "text/x-python",
   "name": "python",
   "nbconvert_exporter": "python",
   "pygments_lexer": "ipython3",
   "version": "3.8.8"
  }
 },
 "nbformat": 4,
 "nbformat_minor": 5
}

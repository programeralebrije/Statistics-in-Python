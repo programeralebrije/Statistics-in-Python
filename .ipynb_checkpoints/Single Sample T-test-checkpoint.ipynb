{
 "cells": [
  {
   "cell_type": "markdown",
   "id": "3b8dda02",
   "metadata": {},
   "source": [
    "1 # TO DETERMINE "
   ]
  },
  {
   "cell_type": "code",
   "execution_count": 2,
   "id": "fd518340",
   "metadata": {},
   "outputs": [],
   "source": [
    "import pandas as pd\n",
    "import numpy as np\n",
    "from scipy.stats import norm\n",
    "from scipy import stats"
   ]
  },
  {
   "cell_type": "markdown",
   "id": "5e3fc3b5",
   "metadata": {},
   "source": [
    "# IMPORT DATA"
   ]
  },
  {
   "cell_type": "code",
   "execution_count": 3,
   "id": "414c542e",
   "metadata": {},
   "outputs": [
    {
     "name": "stdout",
     "output_type": "stream",
     "text": [
      "    carid                vehicle  year   msrp  accelrate  mpg  mpgmpge  \\\n",
      "0     111                Prius C  2013  19080       8.70   50       50   \n",
      "1     112                  Jetta  2013  24995      12.66   45       45   \n",
      "2     113                  Civic  2013  24360      10.20   44       44   \n",
      "3     114                  Prius  2013  24200      10.20   50       50   \n",
      "4     115             Fusion FWD  2013  27200      11.72   47       47   \n",
      "5     116              C-Max FWD  2013  25200      12.35   43       43   \n",
      "6     117                Insight  2013  18600      11.76   42       42   \n",
      "7     118               Camry LE  2013  26140      13.51   41       41   \n",
      "8     119             Camry LXLE  2013  27670      13.33   40       40   \n",
      "9     120                 Sonata  2013  25650      11.76   38       38   \n",
      "10    121                 Optima  2013  25900      11.63   38       38   \n",
      "11    122         Sonata Limited  2013  30550      11.76   37       37   \n",
      "12    123              Optima EX  2013  31950      11.36   37       37   \n",
      "13    124                 Malibu  2013  24985      11.49   29       29   \n",
      "14    125               LaCrosse  2013  31660      11.36   29       29   \n",
      "15    126                  Regal  2013  29015      12.20   29       29   \n",
      "16    127                RX 450h  2013  46310      12.99   30       30   \n",
      "17    128         Highlander 4WD  2013  40170      13.89   28       28   \n",
      "18    129                     Q5  2013  50900      14.71   26       26   \n",
      "19    130              Cayenne S  2013  69850      16.39   21       21   \n",
      "20    131                Touareg  2013  62575      16.13   21       21   \n",
      "21    132           Escalade 2WD  2013  74425      11.63   21       21   \n",
      "22    133              Tahoe 2WD  2013  53620      11.90   21       21   \n",
      "23    134             Yukon 1500  2013  54145      11.88   21       21   \n",
      "24    135             Yukon 1500  2013  61960      13.33   21       21   \n",
      "25    137                MKZ FWD  2013  35925      14.03   45       45   \n",
      "26    138                CT 200h  2013  32050      10.31   42       42   \n",
      "27    139                ES 300h  2013  39250      12.35   40       40   \n",
      "28    140                    ILX  2013  28900       9.26   38       38   \n",
      "29    141         ActiveHybrid 3  2013  49650      14.93   28       28   \n",
      "30    142       Silverado 15 2WD  2013  41135      12.35   21       21   \n",
      "31    143          Sierra 15 2WD  2013  41555      10.00   21       21   \n",
      "32    144                GS 450h  2013  59450      16.67   31       31   \n",
      "33    145                   M35h  2013  54750      19.61   29       29   \n",
      "34    146                   E400  2013  55800      14.93   26       26   \n",
      "35    147         ActiveHybrid 5  2013  61400      12.99   26       26   \n",
      "36    148        ActiveHybrid 7L  2013  84300      18.18   25       25   \n",
      "37    149             Panamera S  2013  96150      18.52   25       25   \n",
      "38    150                   S400  2013  92350      13.89   21       21   \n",
      "39    151          Prius Plug-in  2013  32000       9.17   50       95   \n",
      "40    152   C-Max Energi Plug-in  2013  32950      11.76   43      100   \n",
      "41    153  Fusion Energi Plug-in  2013  38700      11.76   43      100   \n",
      "42    154         Chevrolet Volt  2013  39145      11.11   37       98   \n",
      "\n",
      "   carclass  carclass_id  \n",
      "0         C            1  \n",
      "1         C            1  \n",
      "2         C            1  \n",
      "3         M            3  \n",
      "4         M            3  \n",
      "5         L            2  \n",
      "6         C            1  \n",
      "7         M            3  \n",
      "8         M            3  \n",
      "9         M            3  \n",
      "10        M            3  \n",
      "11        M            3  \n",
      "12        M            3  \n",
      "13        M            3  \n",
      "14        M            3  \n",
      "15        M            3  \n",
      "16      SUV            6  \n",
      "17      SUV            6  \n",
      "18      SUV            6  \n",
      "19      SUV            6  \n",
      "20      SUV            6  \n",
      "21      SUV            6  \n",
      "22      SUV            6  \n",
      "23      SUV            6  \n",
      "24      SUV            6  \n",
      "25        M            3  \n",
      "26        C            1  \n",
      "27        M            3  \n",
      "28        C            1  \n",
      "29        C            1  \n",
      "30       PT            5  \n",
      "31       PT            5  \n",
      "32        M            3  \n",
      "33        M            3  \n",
      "34        M            3  \n",
      "35        M            3  \n",
      "36        L            2  \n",
      "37        L            2  \n",
      "38        L            2  \n",
      "39        M            3  \n",
      "40        M            3  \n",
      "41        M            3  \n",
      "42        C            1  \n"
     ]
    }
   ],
   "source": [
    "hybrid2013 = pd.read_excel(r'/Users/rubenlarrazolo/Downloads/hybrid2013.xlsx')\n",
    "print(hybrid2013)"
   ]
  },
  {
   "cell_type": "code",
   "execution_count": 4,
   "id": "e13ab616",
   "metadata": {},
   "outputs": [
    {
     "data": {
      "text/plain": [
       "<AxesSubplot:>"
      ]
     },
     "execution_count": 4,
     "metadata": {},
     "output_type": "execute_result"
    },
    {
     "data": {
      "image/png": "[encoded data removed]",
      "text/plain": [
       "<Figure size 432x288 with 1 Axes>"
      ]
     },
     "metadata": {
      "needs_background": "light"
     },
     "output_type": "display_data"
    }
   ],
   "source": [
    "hybrid2013['msrp'].hist()"
   ]
  },
  {
   "cell_type": "code",
   "execution_count": 5,
   "id": "92998272",
   "metadata": {},
   "outputs": [
    {
     "data": {
      "text/plain": [
       "Ttest_1sampResult(statistic=6.003733172775179, pvalue=3.9231807518835515e-07)"
      ]
     },
     "execution_count": 5,
     "metadata": {},
     "output_type": "execute_result"
    }
   ],
   "source": [
    "stats.ttest_1samp(hybrid2013['msrp'], 25000)"
   ]
  },
  {
   "cell_type": "code",
   "execution_count": 6,
   "id": "ff50dd3a",
   "metadata": {},
   "outputs": [
    {
     "data": {
      "text/plain": [
       "42943.48837209302"
      ]
     },
     "execution_count": 6,
     "metadata": {},
     "output_type": "execute_result"
    }
   ],
   "source": [
    "hybrid2013.msrp.mean()"
   ]
  },
  {
   "cell_type": "code",
   "execution_count": 17,
   "id": "d501e1a5",
   "metadata": {},
   "outputs": [
    {
     "data": {
      "text/plain": [
       "<AxesSubplot:>"
      ]
     },
     "execution_count": 17,
     "metadata": {},
     "output_type": "execute_result"
    },
    {
     "data": {
      "image/png": "[encoded data removed]",
      "text/plain": [
       "<Figure size 432x288 with 1 Axes>"
      ]
     },
     "metadata": {
      "needs_background": "light"
     },
     "output_type": "display_data"
    }
   ],
   "source": [
    "hybrid2013['mpg'].hist()"
   ]
  },
  {
   "cell_type": "markdown",
   "id": "53c91d08",
   "metadata": {},
   "source": [
    "# Single Sample t-Test"
   ]
  },
  {
   "cell_type": "code",
   "execution_count": 18,
   "id": "b6f12bbc",
   "metadata": {},
   "outputs": [
    {
     "data": {
      "text/plain": [
       "Ttest_1sampResult(statistic=-4.427320491687408, pvalue=6.67005084670698e-05)"
      ]
     },
     "execution_count": 18,
     "metadata": {},
     "output_type": "execute_result"
    }
   ],
   "source": [
    "stats.ttest_1samp(hybrid2013['mpg'], 40)"
   ]
  },
  {
   "cell_type": "markdown",
   "id": "92f1c836",
   "metadata": {},
   "source": [
    "# Check the Population Mean"
   ]
  },
  {
   "cell_type": "code",
   "execution_count": 19,
   "id": "bb7d927b",
   "metadata": {},
   "outputs": [
    {
     "data": {
      "text/plain": [
       "33.48837209302326"
      ]
     },
     "execution_count": 19,
     "metadata": {},
     "output_type": "execute_result"
    }
   ],
   "source": [
    "hybrid2013.mpg.mean()"
   ]
  },
  {
   "cell_type": "code",
   "execution_count": 7,
   "id": "d9512360",
   "metadata": {},
   "outputs": [
    {
     "data": {
      "text/plain": [
       "Ttest_1sampResult(statistic=-4.427320491687408, pvalue=6.67005084670698e-05)"
      ]
     },
     "execution_count": 7,
     "metadata": {},
     "output_type": "execute_result"
    }
   ],
   "source": [
    "stats.ttest_1samp(hybrid2013['mpg'], 40)"
   ]
  },
  {
   "cell_type": "code",
   "execution_count": 8,
   "id": "b079ca42",
   "metadata": {},
   "outputs": [
    {
     "data": {
      "text/plain": [
       "Ttest_1sampResult(statistic=-4.427320491687408, pvalue=6.67005084670698e-05)"
      ]
     },
     "execution_count": 8,
     "metadata": {},
     "output_type": "execute_result"
    }
   ],
   "source": [
    "stats.ttest_1samp(hybrid2013['mpg'], 40)"
   ]
  },
  {
   "cell_type": "code",
   "execution_count": null,
   "id": "eef94332",
   "metadata": {},
   "outputs": [],
   "source": []
  },
  {
   "cell_type": "code",
   "execution_count": 1,
   "id": "12bd68f1",
   "metadata": {},
   "outputs": [
    {
     "name": "stdout",
     "output_type": "stream",
     "text": [
      "Collecting pandas\n",
      "  Downloading pandas-1.3.4-cp39-cp39-macosx_10_9_x86_64.whl (11.6 MB)\n",
      "\u001b[K     |████████████████████████████████| 11.6 MB 3.0 MB/s \n",
      "\u001b[?25hCollecting pytz>=2017.3\n",
      "  Downloading pytz-2021.3-py2.py3-none-any.whl (503 kB)\n",
      "\u001b[K     |████████████████████████████████| 503 kB 23.7 MB/s \n",
      "\u001b[?25hCollecting numpy>=1.17.3\n",
      "  Downloading numpy-1.21.3-cp39-cp39-macosx_10_9_x86_64.whl (17.0 MB)\n",
      "\u001b[K     |████████████████████████████████| 17.0 MB 15.6 MB/s \n",
      "\u001b[?25hRequirement already satisfied: python-dateutil>=2.7.3 in /Library/Frameworks/Python.framework/Versions/3.9/lib/python3.9/site-packages (from pandas) (2.8.2)\n",
      "Requirement already satisfied: six>=1.5 in /Library/Frameworks/Python.framework/Versions/3.9/lib/python3.9/site-packages (from python-dateutil>=2.7.3->pandas) (1.16.0)\n",
      "Installing collected packages: pytz, numpy, pandas\n",
      "Successfully installed numpy-1.21.3 pandas-1.3.4 pytz-2021.3\n",
      "\u001b[33mWARNING: You are using pip version 21.1.1; however, version 21.3.1 is available.\n",
      "You should consider upgrading via the '/usr/local/bin/python3 -m pip install --upgrade pip' command.\u001b[0m\n",
      "Note: you may need to restart the kernel to use updated packages.\n"
     ]
    }
   ],
   "source": [
    "pip install pandas"
   ]
  },
  {
   "cell_type": "code",
   "execution_count": 2,
   "id": "005e7968",
   "metadata": {},
   "outputs": [
    {
     "name": "stdout",
     "output_type": "stream",
     "text": [
      "Requirement already satisfied: numpy in /Library/Frameworks/Python.framework/Versions/3.9/lib/python3.9/site-packages (1.21.3)\n",
      "\u001b[33mWARNING: You are using pip version 21.1.1; however, version 21.3.1 is available.\n",
      "You should consider upgrading via the '/usr/local/bin/python3 -m pip install --upgrade pip' command.\u001b[0m\n",
      "Note: you may need to restart the kernel to use updated packages.\n"
     ]
    }
   ],
   "source": [
    "pip install numpy"
   ]
  },
  {
   "cell_type": "code",
   "execution_count": 5,
   "id": "7e3d5328",
   "metadata": {},
   "outputs": [
    {
     "name": "stdout",
     "output_type": "stream",
     "text": [
      "Collecting scipy\n",
      "  Downloading scipy-1.7.1-cp39-cp39-macosx_10_9_x86_64.whl (32.8 MB)\n",
      "\u001b[K     |████████████████████████████████| 32.8 MB 14.9 MB/s \n",
      "\u001b[?25hRequirement already satisfied: numpy<1.23.0,>=1.16.5 in /Library/Frameworks/Python.framework/Versions/3.9/lib/python3.9/site-packages (from scipy) (1.21.3)\n",
      "Installing collected packages: scipy\n",
      "Successfully installed scipy-1.7.1\n",
      "\u001b[33mWARNING: You are using pip version 21.1.1; however, version 21.3.1 is available.\n",
      "You should consider upgrading via the '/usr/local/bin/python3 -m pip install --upgrade pip' command.\u001b[0m\n",
      "Note: you may need to restart the kernel to use updated packages.\n"
     ]
    }
   ],
   "source": [
    "pip install scipy"
   ]
  },
  {
   "cell_type": "code",
   "execution_count": 6,
   "id": "4b0584e8",
   "metadata": {},
   "outputs": [
    {
     "name": "stdout",
     "output_type": "stream",
     "text": [
      "Collecting stats\n",
      "  Downloading stats-0.1.2a.tar.gz (127 kB)\n",
      "\u001b[K     |████████████████████████████████| 127 kB 2.4 MB/s \n",
      "\u001b[?25hUsing legacy 'setup.py install' for stats, since package 'wheel' is not installed.\n",
      "Installing collected packages: stats\n",
      "    Running setup.py install for stats ... \u001b[?25ldone\n",
      "\u001b[?25hSuccessfully installed stats-0.1.2a0\n",
      "\u001b[33mWARNING: You are using pip version 21.1.1; however, version 21.3.1 is available.\n",
      "You should consider upgrading via the '/usr/local/bin/python3 -m pip install --upgrade pip' command.\u001b[0m\n",
      "Note: you may need to restart the kernel to use updated packages.\n"
     ]
    }
   ],
   "source": [
    "pip install stats "
   ]
  },
  {
   "cell_type": "code",
   "execution_count": 7,
   "id": "90b7ea2a",
   "metadata": {},
   "outputs": [
    {
     "name": "stdout",
     "output_type": "stream",
     "text": [
      "Collecting norm\n",
      "  Downloading norm-1.6.0-py3-none-any.whl (11 kB)\n",
      "Installing collected packages: norm\n",
      "Successfully installed norm-1.6.0\n",
      "\u001b[33mWARNING: You are using pip version 21.1.1; however, version 21.3.1 is available.\n",
      "You should consider upgrading via the '/usr/local/bin/python3 -m pip install --upgrade pip' command.\u001b[0m\n",
      "Note: you may need to restart the kernel to use updated packages.\n"
     ]
    }
   ],
   "source": [
    "pip install norm"
   ]
  },
  {
   "cell_type": "code",
   "execution_count": null,
   "id": "0f6ab2f2",
   "metadata": {},
   "outputs": [],
   "source": []
  }
 ],
 "metadata": {
  "interpreter": {
   "hash": "aee8b7b246df8f9039afb4144a1f6fd8d2ca17a180786b69acc140d282b71a49"
  },
  "kernelspec": {
   "display_name": "Python 3",
   "language": "python",
   "name": "python3"
  },
  "language_info": {
   "codemirror_mode": {
    "name": "ipython",
    "version": 3
   },
   "file_extension": ".py",
   "mimetype": "text/x-python",
   "name": "python",
   "nbconvert_exporter": "python",
   "pygments_lexer": "ipython3",
   "version": "3.8.8"
  }
 },
 "nbformat": 4,
 "nbformat_minor": 5
}

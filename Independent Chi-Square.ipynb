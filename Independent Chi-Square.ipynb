{
 "cells": [
  {
   "cell_type": "markdown",
   "id": "24fad7ce",
   "metadata": {},
   "source": [
    "# Independent Chi-Square"
   ]
  },
  {
   "cell_type": "code",
   "execution_count": 11,
   "id": "ff1d1a08",
   "metadata": {},
   "outputs": [],
   "source": [
    "import pandas as pd\n",
    "from scipy import stats"
   ]
  },
  {
   "cell_type": "code",
   "execution_count": 15,
   "id": "0e6b57ca",
   "metadata": {},
   "outputs": [
    {
     "name": "stdout",
     "output_type": "stream",
     "text": [
      "    JRC_code purchCntry prodCntry    Pb  sdPb  shade prodType  priceCatgry\n",
      "0       C135         NL        NL  3.75  0.24    Red       LP            2\n",
      "1        C18         FI        FI  2.29  0.07    Red       LP            2\n",
      "2        C20         FI        IT  1.27  0.06    Red       LP            2\n",
      "3       C164         DE        FR  1.21  0.06    Red       LP            2\n",
      "4        C71         MT        UK  0.85  0.04    Red       LP            2\n",
      "..       ...        ...       ...   ...   ...    ...      ...          ...\n",
      "218     C108         IT        IT  0.24  0.01  Brown       LG            1\n",
      "219      C52         FR        FR  0.23  0.01  Brown       LG            2\n",
      "220      C14         PL        FR  0.19  0.01  Brown       LG            2\n",
      "221      C32         EL        DE  0.09  0.01  Brown       LG            1\n",
      "222     C124         AT        FR  0.04  0.01  Brown       LG            2\n",
      "\n",
      "[223 rows x 8 columns]\n"
     ]
    }
   ],
   "source": [
    "lipstick_crosstab = pd.read_csv('/Users/rubenlarrazolo/Downloads/lead_lipstick.csv')\n",
    "print(lipstick_crosstab)\n"
   ]
  },
  {
   "cell_type": "code",
   "execution_count": null,
   "id": "ba359fcd",
   "metadata": {},
   "outputs": [],
   "source": []
  }
 ],
 "metadata": {
  "kernelspec": {
   "display_name": "Python 3",
   "language": "python",
   "name": "python3"
  },
  "language_info": {
   "codemirror_mode": {
    "name": "ipython",
    "version": 3
   },
   "file_extension": ".py",
   "mimetype": "text/x-python",
   "name": "python",
   "nbconvert_exporter": "python",
   "pygments_lexer": "ipython3",
   "version": "3.8.8"
  }
 },
 "nbformat": 4,
 "nbformat_minor": 5
}

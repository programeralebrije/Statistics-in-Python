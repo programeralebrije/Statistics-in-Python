{
 "cells": [
  {
   "cell_type": "markdown",
   "id": "2c7d75e2",
   "metadata": {},
   "source": [
    "# Independent Chi-Square"
   ]
  },
  {
   "cell_type": "code",
   "execution_count": 11,
   "id": "260d3e9f",
   "metadata": {},
   "outputs": [],
   "source": [
    "import pandas as pd\n",
    "from scipy import stats"
   ]
  },
  {
   "cell_type": "code",
   "execution_count": 18,
   "id": "51444b46",
   "metadata": {},
   "outputs": [
    {
     "name": "stdout",
     "output_type": "stream",
     "text": [
      "    JRC_code purchCntry prodCntry    Pb  sdPb  shade prodType  priceCatgry\n",
      "0       C135         NL        NL  3.75  0.24    Red       LP            2\n",
      "1        C18         FI        FI  2.29  0.07    Red       LP            2\n",
      "2        C20         FI        IT  1.27  0.06    Red       LP            2\n",
      "3       C164         DE        FR  1.21  0.06    Red       LP            2\n",
      "4        C71         MT        UK  0.85  0.04    Red       LP            2\n",
      "..       ...        ...       ...   ...   ...    ...      ...          ...\n",
      "218     C108         IT        IT  0.24  0.01  Brown       LG            1\n",
      "219      C52         FR        FR  0.23  0.01  Brown       LG            2\n",
      "220      C14         PL        FR  0.19  0.01  Brown       LG            2\n",
      "221      C32         EL        DE  0.09  0.01  Brown       LG            1\n",
      "222     C124         AT        FR  0.04  0.01  Brown       LG            2\n",
      "\n",
      "[223 rows x 8 columns]\n"
     ]
    }
   ],
   "source": [
    "lipstick = pd.read_csv('/Users/rubenlarrazolo/Downloads/lead_lipstick.csv')\n",
    "print(lipstick)\n"
   ]
  },
  {
   "cell_type": "code",
   "execution_count": 20,
   "id": "433fe75b",
   "metadata": {},
   "outputs": [],
   "source": [
    "lipstick_crosstab = pd.crosstab(lipstick['prodType'], lipstick['priceCatgry'])"
   ]
  },
  {
   "cell_type": "code",
   "execution_count": 21,
   "id": "06ee208d",
   "metadata": {},
   "outputs": [
    {
     "name": "stdout",
     "output_type": "stream",
     "text": [
      "priceCatgry   1   2   3\n",
      "prodType               \n",
      "LG           19  43  12\n",
      "LP           34  92  23\n"
     ]
    }
   ],
   "source": [
    "print(lipstick_crosstab)"
   ]
  },
  {
   "cell_type": "code",
   "execution_count": 22,
   "id": "ccd32762",
   "metadata": {},
   "outputs": [
    {
     "data": {
      "text/plain": [
       "(0.2969891724608704,\n",
       " 0.8620046738525345,\n",
       " 2,\n",
       " array([[17.58744395, 44.79820628, 11.61434978],\n",
       "        [35.41255605, 90.20179372, 23.38565022]]))"
      ]
     },
     "execution_count": 22,
     "metadata": {},
     "output_type": "execute_result"
    }
   ],
   "source": [
    "stats.chi2_contingency(lipstick_crosstab)"
   ]
  },
  {
   "cell_type": "code",
   "execution_count": 24,
   "id": "353c681a",
   "metadata": {},
   "outputs": [],
   "source": [
    "lipstick2_crosstab = pd.crosstab(lipstick['shade'], lipstick['priceCatgry'])"
   ]
  },
  {
   "cell_type": "code",
   "execution_count": 25,
   "id": "b75f3ada",
   "metadata": {},
   "outputs": [
    {
     "name": "stdout",
     "output_type": "stream",
     "text": [
      "priceCatgry   1   2   3\n",
      "shade                  \n",
      "Brown        20  30  10\n",
      "Pink         20  49  12\n",
      "Purple        8  23   6\n",
      "Red           5  33   7\n"
     ]
    }
   ],
   "source": [
    "print(lipstick2_crosstab)"
   ]
  },
  {
   "cell_type": "code",
   "execution_count": 26,
   "id": "dccc01e7",
   "metadata": {},
   "outputs": [
    {
     "name": "stdout",
     "output_type": "stream",
     "text": [
      "priceCatgry   1   2   3\n",
      "prodType               \n",
      "LG           19  43  12\n",
      "LP           34  92  23\n"
     ]
    }
   ],
   "source": [
    "lipstick3_crosstab = pd.crosstab(lipstick['prodType'], lipstick['priceCatgry'])\n",
    "print(lipstick3_crosstab)"
   ]
  },
  {
   "cell_type": "code",
   "execution_count": 27,
   "id": "a1776624",
   "metadata": {},
   "outputs": [
    {
     "data": {
      "text/plain": [
       "(0.2969891724608704,\n",
       " 0.8620046738525345,\n",
       " 2,\n",
       " array([[17.58744395, 44.79820628, 11.61434978],\n",
       "        [35.41255605, 90.20179372, 23.38565022]]))"
      ]
     },
     "execution_count": 27,
     "metadata": {},
     "output_type": "execute_result"
    }
   ],
   "source": [
    "stats.chi2_contingency(lipstick2_crosstab)\n",
    "stats.chi2_contingency(lipstick3_crosstab)"
   ]
  },
  {
   "cell_type": "code",
   "execution_count": 28,
   "id": "91122711",
   "metadata": {},
   "outputs": [
    {
     "data": {
      "text/plain": [
       "(7.860569553614045,\n",
       " 0.2484973879479863,\n",
       " 6,\n",
       " array([[14.26008969, 36.32286996,  9.41704036],\n",
       "        [19.25112108, 49.03587444, 12.71300448],\n",
       "        [ 8.79372197, 22.39910314,  5.80717489],\n",
       "        [10.69506726, 27.24215247,  7.06278027]]))"
      ]
     },
     "execution_count": 28,
     "metadata": {},
     "output_type": "execute_result"
    }
   ],
   "source": [
    "stats.chi2_contingency(lipstick2_crosstab)"
   ]
  },
  {
   "cell_type": "markdown",
   "id": "e0d588fb",
   "metadata": {},
   "source": [
    "# Contingency"
   ]
  },
  {
   "cell_type": "code",
   "execution_count": null,
   "id": "c11addd6",
   "metadata": {},
   "outputs": [],
   "source": []
  }
 ],
 "metadata": {
  "kernelspec": {
   "display_name": "Python 3",
   "language": "python",
   "name": "python3"
  },
  "language_info": {
   "codemirror_mode": {
    "name": "ipython",
    "version": 3
   },
   "file_extension": ".py",
   "mimetype": "text/x-python",
   "name": "python",
   "nbconvert_exporter": "python",
   "pygments_lexer": "ipython3",
   "version": "3.8.8"
  }
 },
 "nbformat": 4,
 "nbformat_minor": 5
}
